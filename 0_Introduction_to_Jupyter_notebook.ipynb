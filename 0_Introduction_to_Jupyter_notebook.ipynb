{
 "cells": [
  {
   "cell_type": "markdown",
   "metadata": {},
   "source": [
    "# Wstęp"
   ]
  },
  {
   "cell_type": "markdown",
   "metadata": {
    "nbgrader": {
     "grade": false,
     "locked": false,
     "schema_version": 1,
     "solution": false
    }
   },
   "source": [
    "Na tych zajęciach będziemy korzystali z Jupytera/Colaboratory do pisania kodu i oddawania prac domowych."
   ]
  },
  {
   "cell_type": "markdown",
   "metadata": {
    "nbgrader": {
     "grade": false,
     "locked": false,
     "schema_version": 1,
     "solution": false
    }
   },
   "source": [
    "Każdy *notebook* Jupytera/Colaboratory składa się z wielu komórek (*cell*). Na przykład, ten tekst jest w komórce typu tekstowego (*Markdown cell* w Jupyterze, *TEXT* w  Colaboratory). Poniższa komórka zawiera kod (jest typu *code*)."
   ]
  },
  {
   "cell_type": "code",
   "execution_count": null,
   "metadata": {
    "nbgrader": {
     "grade": false,
     "locked": false,
     "schema_version": 1,
     "solution": false
    }
   },
   "outputs": [],
   "source": [
    "# to jest komórka z kodem\n",
    "2+2"
   ]
  },
  {
   "cell_type": "markdown",
   "metadata": {
    "nbgrader": {
     "grade": false,
     "locked": false,
     "schema_version": 1,
     "solution": false
    }
   },
   "source": [
    "Kliknij na komórkę, by ją wybrać. \n",
    "\n",
    "W Jupyterze możesz dowiedzieć się jakiego typu jest komórka poprzez kliknięcie na nią i spojrzenie na pasek narzędzi. Gdy klikniesz na tę komórkę, zobaczysz typ *Markdown* jak na obrazku:\n",
    "\n",
    "![](https://www.mimuw.edu.pl/~mm319369/priv/d73890416bec03ff3e2b3756af8c941c/images/cell-type-menu.png)"
   ]
  },
  {
   "cell_type": "markdown",
   "metadata": {
    "nbgrader": {
     "grade": false,
     "locked": false,
     "schema_version": 1,
     "solution": false
    }
   },
   "source": [
    "---"
   ]
  },
  {
   "cell_type": "markdown",
   "metadata": {
    "nbgrader": {
     "grade": false,
     "locked": false,
     "schema_version": 1,
     "solution": false
    }
   },
   "source": [
    "## Komórki z kodem"
   ]
  },
  {
   "cell_type": "markdown",
   "metadata": {
    "nbgrader": {
     "grade": false,
     "locked": false,
     "schema_version": 1,
     "solution": false
    }
   },
   "source": [
    "Komórki z kodem mogą zawierać dowolny poprawny kod Pythona. Gdy uruchomisz komórkę, kod jest wykonywany, a wyjście programu wyświetlane poniżej."
   ]
  },
  {
   "cell_type": "markdown",
   "metadata": {
    "nbgrader": {
     "grade": false,
     "locked": false,
     "schema_version": 1,
     "solution": false
    }
   },
   "source": [
    "<div class=\"alert alert-info\">\n",
    "Można wykonać zawartość zaznaczonej komórki na wiele sposobów:\n",
    "<ul>\n",
    "<li> <b><code>Ctrl+Enter/Cmd+Enter</code></b> (komórka pozostanie zaznaczona), </li>\n",
    "<li> <b><code>Shift+Enter</code></b> (zaznaczy kolejną komórkę), </li>\n",
    "<li> <b><code>Alt+Enter</code></b> (stworzy komórkę poniżej), </li>\n",
    "<li> klikając guzik **play** znajdujący się:\n",
    "    <ul>\n",
    "    <li> na pasku narzędzi w Jupyterze (obok kwadratu), </li>\n",
    "    <li> na lewej belce koło kodu w Colaboratory. </li>\n",
    "    </ul></li>\n",
    "</ul>\n",
    "</div>\n",
    "\n",
    "<b>Uwaga!</b> W Colaboratory musimy poczekać na przydzielenie nam zasobów. Status znajduje się w prawym górnym rogu."
   ]
  },
  {
   "cell_type": "markdown",
   "metadata": {
    "nbgrader": {
     "grade": false,
     "locked": false,
     "schema_version": 1,
     "solution": false
    }
   },
   "source": [
    "Spróbuj wykonać poniższą komórkę i zobacz, co wypisze:"
   ]
  },
  {
   "cell_type": "code",
   "execution_count": null,
   "metadata": {
    "nbgrader": {
     "grade": false,
     "locked": false,
     "schema_version": 1,
     "solution": false
    }
   },
   "outputs": [],
   "source": [
    "print(\"Printing cumulative sum from 1-10:\")\n",
    "total = 0\n",
    "for i in range(1, 11):\n",
    "    total += i\n",
    "    print(\"Sum of 1 to \" + str(i) + \" is: \" + str(total))\n",
    "print(\"Done printing numbers.\")"
   ]
  },
  {
   "cell_type": "markdown",
   "metadata": {
    "nbgrader": {
     "grade": false,
     "locked": false,
     "schema_version": 1,
     "solution": false
    }
   },
   "source": [
    "Zauważ, że poniżej komórki znalazły się rezultaty wykonania instrukcji `print`.\n",
    "Kolejny przykład wypisuje tylko ostateczną sumę:"
   ]
  },
  {
   "cell_type": "code",
   "execution_count": null,
   "metadata": {
    "nbgrader": {
     "grade": false,
     "locked": false,
     "schema_version": 1,
     "solution": false
    }
   },
   "outputs": [],
   "source": [
    "total = 0\n",
    "for i in range(1, 11):\n",
    "    total += i\n",
    "print(total)"
   ]
  },
  {
   "cell_type": "markdown",
   "metadata": {
    "nbgrader": {
     "grade": false,
     "locked": false,
     "schema_version": 1,
     "solution": false
    }
   },
   "source": [
    "Innym sposobem na wypisanie czegoś jest po prostu pozostawienie tego obiektu w ostatniej linijce. Możemy zmienić powyższy przykład na:"
   ]
  },
  {
   "cell_type": "code",
   "execution_count": null,
   "metadata": {
    "nbgrader": {
     "grade": false,
     "locked": false,
     "schema_version": 1,
     "solution": false
    }
   },
   "outputs": [],
   "source": [
    "total = 0\n",
    "for i in range(1, 11):\n",
    "    total += i\n",
    "total"
   ]
  },
  {
   "cell_type": "markdown",
   "metadata": {
    "nbgrader": {
     "grade": false,
     "locked": false,
     "schema_version": 1,
     "solution": false
    }
   },
   "source": [
    "Jednak, to *nie zadziała* jeśli niżej będą jeszcze jakieś inne linie. Na przykład, po dodaniu na końcu dodatkowej instrukcji `print`, nie wypisze się zawartość zmiennej `total` tak, jakbyśmy tego oczekiwali:"
   ]
  },
  {
   "cell_type": "code",
   "execution_count": null,
   "metadata": {
    "nbgrader": {
     "grade": false,
     "locked": false,
     "schema_version": 1,
     "solution": false
    },
    "scrolled": true
   },
   "outputs": [],
   "source": [
    "total = 0\n",
    "for i in range(1, 11):\n",
    "    total += i\n",
    "total\n",
    "print(\"Done computing total.\")"
   ]
  },
  {
   "cell_type": "markdown",
   "metadata": {},
   "source": [
    "Jeśli zazwyczaj używasz Pythona 2, zwróć uwagę na obowiązkowe nawiasy wokół funkcji `print` w Pythonie 3."
   ]
  },
  {
   "cell_type": "markdown",
   "metadata": {
    "nbgrader": {
     "grade": false,
     "locked": false,
     "schema_version": 1,
     "solution": false
    }
   },
   "source": [
    "---"
   ]
  },
  {
   "cell_type": "markdown",
   "metadata": {},
   "source": [
    "# Komórki tekstowe"
   ]
  },
  {
   "cell_type": "markdown",
   "metadata": {},
   "source": [
    "To jest przykładowa *komórka tekstowa*.\n",
    "Komórki tekstowe możesz edytować po **dwukrotnym kliknięciu** ich. Spróbuj kliknąć w tę.\n",
    "\n",
    "Krótki przewodnik po składni znajdziecie [tutaj](https://docs.microsoft.com/pl-pl/contribute/help-crr/help-content/contribute/contribute-how-to-write-use-markdown).\n",
    "Rozszerzony przykład w Colaboratory znajdziecie w tym [notebooku](/notebooks/markdown_guide.ipynb).\n",
    "\n",
    "Możecie również pisać równania matematyczne w składni LaTeX-a: $\\sum_i^\\infty \\sqrt{i+2}$.\n",
    "\n",
    "Aby zamienić tę komórkę na sformatowaną, w Jupyterze trzeba ją uruchomić, a w Colaboratory wystarczy kliknąć gdzie indziej."
   ]
  },
  {
   "cell_type": "markdown",
   "metadata": {},
   "source": [
    "# Dodawanie i przesuwanie komórek, zapisywanie"
   ]
  },
  {
   "cell_type": "markdown",
   "metadata": {},
   "source": [
    "Nowe komórki można tworzyć za pomocą:\n",
    "\n",
    "W Jupyterze:\n",
    "1. klikając w ikonę **plus**a (na pasku narzędiowym), który doda komórkę pod obecnie zaznaczoną,\n",
    "2. typ możemy zmienić za pomocą menu (domyślnie *Code*).\n",
    "\n",
    "W Colaboratory:\n",
    "* klikając w **+ CODE** lub w **+ TEXT** na pasku narzędziowym,\n",
    "* analogiczne guziki pojawiają się po najechaniu na granicę między komórkami.\n",
    "\n",
    "Komórki można przesuwać za pomocą **strzałek góra/dół** w pasku narzędziowym. Można zaznaczyć wiele przez kliknięcie na jedną, a następnie, przytrzymując **Shift**, kliknięcie na następną. W Colaboratory możemy użyć \"lassa\" gdy zaczniemy zaznaczanie poza regionem komórek.\n",
    "\n",
    "Zaznaczone komórki możemy wycinać, kopiować i wklejać za pomocą odpowiedniego menu. W Colaboratory, ponadto, istnieje wygodny przycisk śmietnika w rogu komórki."
   ]
  },
  {
   "cell_type": "markdown",
   "metadata": {},
   "source": [
    "**Uwaga!**\n",
    "Pracując w Colaboratory, zmiany w notebooku zapisywane są automatycznie. W Jupyterze nie zawsze tak jest i czasem należy kliknąć w ikonę zapisywania na pasku narzędzi."
   ]
  },
  {
   "cell_type": "markdown",
   "metadata": {},
   "source": [
    "# Praca z Pythonem"
   ]
  },
  {
   "cell_type": "markdown",
   "metadata": {
    "nbgrader": {
     "grade": false,
     "locked": false,
     "schema_version": 1,
     "solution": false
    }
   },
   "source": [
    "Gdy tworzysz i uruchamiasz nowy notebook, uruchamiasz również system odpowiedzialny za intepretację kodu. W Jupyterze nazywa się to *kernel*em, a w Colaboratory *runtime*'em. Ten system działa w tle: gdy uruchamiasz komórkę z kodem, jej treść wykonywana jest przez ten system, a wyjście przekazywane z powrotem do *notebook*a.\n",
    "\n",
    "Działa to podobnie to interpretera Pythona w konsoli: np. musisz zadeklarować zmienne, zanim ich użyjesz. Zobacz, co stanie się, gdy wykonasz poniższy kod:"
   ]
  },
  {
   "cell_type": "code",
   "execution_count": null,
   "metadata": {
    "nbgrader": {
     "grade": false,
     "locked": false,
     "schema_version": 1,
     "solution": false
    }
   },
   "outputs": [],
   "source": [
    "a"
   ]
  },
  {
   "cell_type": "markdown",
   "metadata": {
    "nbgrader": {
     "grade": false,
     "locked": false,
     "schema_version": 1,
     "solution": false
    }
   },
   "source": [
    "Jak widzisz, wyjątki są ładnie formatowane. Powyżej mamy problem z tym, że zmienna `a` nie istnieje. Zmień powyższą komórkę tak, aby zdefiniować najpierw zmienną `a` (np. przypisz do niej 1). Gdy to zrobisz, możesz wykonać powyższą komórkę bez problemów."
   ]
  },
  {
   "cell_type": "code",
   "execution_count": null,
   "metadata": {},
   "outputs": [],
   "source": [
    "print(\"The value of 'a' is: \" + str(a))"
   ]
  },
  {
   "cell_type": "markdown",
   "metadata": {
    "nbgrader": {
     "grade": false,
     "locked": false,
     "schema_version": 1,
     "solution": false
    }
   },
   "source": [
    "Wykonanie powyższej komórki powinno już działać, gdyż zmienna `a` została już zdefiniowana. Zmienne zostają w środowisku działającym w tle. Użyj polecenia `%whos`, by zobaczyć jakie zmienne sa dostępne:"
   ]
  },
  {
   "cell_type": "code",
   "execution_count": null,
   "metadata": {
    "nbgrader": {
     "grade": false,
     "locked": false,
     "schema_version": 1,
     "solution": false
    }
   },
   "outputs": [],
   "source": [
    "%whos"
   ]
  },
  {
   "cell_type": "markdown",
   "metadata": {
    "nbgrader": {
     "grade": false,
     "locked": false,
     "schema_version": 1,
     "solution": false
    }
   },
   "source": [
    "Jeśli przykłady z sumowaniem zostały wykonane, zobaczysz także `total` i `i`. Dzieje się tak, gdyż każda wykonana komórka zmienia stan systemu."
   ]
  },
  {
   "cell_type": "markdown",
   "metadata": {
    "nbgrader": {
     "grade": false,
     "locked": false,
     "schema_version": 1,
     "solution": false
    }
   },
   "source": [
    "Zauważ, że polecania zaczynające się od procenta (%) albo dwóch (%%) są specjalnymi poleceniami systemu działającego w tle (IPython). Nazywa się je *magic*s i działają tylko z nim. Innym, specjalnym modyfikatorem jest wykrzyknik (!), który wykonuje kod w terminalu:"
   ]
  },
  {
   "cell_type": "code",
   "execution_count": null,
   "metadata": {},
   "outputs": [],
   "source": [
    "!echo 22\n",
    "!ls || dir"
   ]
  },
  {
   "cell_type": "markdown",
   "metadata": {
    "nbgrader": {
     "grade": false,
     "locked": false,
     "schema_version": 1,
     "solution": false
    }
   },
   "source": [
    "## Resetowanie stanu"
   ]
  },
  {
   "cell_type": "markdown",
   "metadata": {
    "nbgrader": {
     "grade": false,
     "locked": false,
     "schema_version": 1,
     "solution": false
    }
   },
   "source": [
    "Dobrą praktyką przy pracy z Jupyterem jest, aby komórki wykonane od góry do dołu w świeżym środowisku działały zgodnie z oczekiwaniem. (W szczególności, **będzie to wymagane przy oddawaniu prac domowych**.) Częstym błędem jest używanie w komórkach zmiennych, które kiedyś zostały zdefiniowane, ale później kod je definiujący został skasowany."
   ]
  },
  {
   "cell_type": "markdown",
   "metadata": {
    "nbgrader": {
     "grade": false,
     "locked": false,
     "schema_version": 1,
     "solution": false
    }
   },
   "source": [
    "Aby sprawdzić, czy tak jest, zresetuj najpierw stan środowiska poprzez wybranie w menu Kernel/Runtime -> Restart.\n",
    "\n",
    "W Jupyterze można też klikąć ikonkę na pasku narzędziowym:\n",
    "![](https://www.mimuw.edu.pl/~mm319369/priv/d73890416bec03ff3e2b3756af8c941c/images/restart-kernel-button.png)"
   ]
  },
  {
   "cell_type": "markdown",
   "metadata": {
    "nbgrader": {
     "grade": false,
     "locked": false,
     "schema_version": 1,
     "solution": false
    }
   },
   "source": [
    "Następnie, wykonaj wszystkie komórki przez wybranie w menu:\n",
    "* w Jupyterze: **Cell$\\rightarrow$Run All**,\n",
    "* w Colaboratory: **Runtime$\\rightarrow$Run All**,"
   ]
  },
  {
   "cell_type": "markdown",
   "metadata": {},
   "source": [
    "Stan środowiska ze zmiennymi nie jest nigdzie zapisywany. W Colaboratory nasz stan zniknie po około 12 godzinach. Podobnie stanie się, gdy np. wyłączymy komputer z naszym własnym Jupyterem."
   ]
  },
  {
   "cell_type": "markdown",
   "metadata": {},
   "source": [
    "## Przerywanie wykonania"
   ]
  },
  {
   "cell_type": "markdown",
   "metadata": {},
   "source": [
    "Jeśli dana komórka działa zbyt długo, można przerwać jej wykonanie. Wykonaj poniższą komórkę i wybierz z menu **Kernel/Runtime -> Interrupt (execution)** zanim się skończy. W Jupyterze możesz też kliknąć kwadrat na pasku narzędzi. (Pod Windowsem i w Colaboratory może to czasem nie działać.)"
   ]
  },
  {
   "cell_type": "code",
   "execution_count": null,
   "metadata": {},
   "outputs": [],
   "source": [
    "total = 0\n",
    "for i in range(50000000):\n",
    "    total += i*i # too long, interrupt me!\n",
    "print(\"Done computing total:\", total)"
   ]
  },
  {
   "cell_type": "markdown",
   "metadata": {},
   "source": [
    "## Dopełnianie TAB-em"
   ]
  },
  {
   "cell_type": "markdown",
   "metadata": {},
   "source": [
    "Jupyter/Colaboratory wspiera dopełnianie po wciśnięciu klawisza **Tab**. Wykonaj najpierw poniższą komórkę. Następnie, wciśnij **Tab** w pozostałych, po umieszczeniu kursora na ich końcu:"
   ]
  },
  {
   "cell_type": "code",
   "execution_count": null,
   "metadata": {
    "collapsed": true
   },
   "outputs": [],
   "source": [
    "import math"
   ]
  },
  {
   "cell_type": "code",
   "execution_count": null,
   "metadata": {},
   "outputs": [],
   "source": [
    "t"
   ]
  },
  {
   "cell_type": "code",
   "execution_count": null,
   "metadata": {},
   "outputs": [],
   "source": [
    "math."
   ]
  },
  {
   "cell_type": "markdown",
   "metadata": {},
   "source": [
    "W Colaboratory poniższe wyświetli etykietę z dokumentacją:"
   ]
  },
  {
   "cell_type": "code",
   "execution_count": null,
   "metadata": {},
   "outputs": [],
   "source": [
    "math.cos("
   ]
  },
  {
   "cell_type": "markdown",
   "metadata": {},
   "source": [
    "Wykonanie komórki ze znakiem zapytania na końcu (?) wyświetla dłuższą dokumentację w okienku poniżej. Można je zamknąć iksem w prawym górnym rogu."
   ]
  },
  {
   "cell_type": "code",
   "execution_count": null,
   "metadata": {
    "collapsed": true
   },
   "outputs": [],
   "source": [
    "math.atan2?"
   ]
  },
  {
   "cell_type": "markdown",
   "metadata": {},
   "source": [
    "## Zaawansowane wyjście"
   ]
  },
  {
   "cell_type": "markdown",
   "metadata": {},
   "source": [
    "Jupyter pozwala wyświetlać nie tylko tekst, ale na przykład też wykresy. Uruchom poniższą komórkę, by go zobaczyć:"
   ]
  },
  {
   "cell_type": "code",
   "execution_count": null,
   "metadata": {},
   "outputs": [],
   "source": [
    "import numpy as np\n",
    "from matplotlib import pyplot as plt\n",
    "\n",
    "x = np.linspace(0, 10, 100) # 100 liczb od 0 do 10, w równych odstępach\n",
    "y = np.sin(x)\n",
    "\n",
    "plt.plot(x, y)\n",
    "plt.title(\"Wykres sinusa\")\n",
    "plt.show()"
   ]
  },
  {
   "cell_type": "markdown",
   "metadata": {},
   "source": [
    "## Formularze w Colaboratory"
   ]
  },
  {
   "cell_type": "markdown",
   "metadata": {},
   "source": [
    "W Colaboratory możemy tworzyć proste formularze, które zmieniają zmienne w środowisku. Uruchom poniższą komórkę. Przy niej powinien pojawić się slider z możliwością wyboru wartości. Po jego zmianie, komórka powinna automatycznie się wykonać."
   ]
  },
  {
   "cell_type": "code",
   "execution_count": null,
   "metadata": {},
   "outputs": [],
   "source": [
    "#@title Tytuł formularza { run: \"auto\", display-mode: \"both\" }\n",
    "a = 0.1 #@param {type:\"slider\", min:0, max:2, step:0.1}\n",
    "print(a+2)\n",
    "\n",
    "# Tak w razie czego poniżej importujemy jeszcze raz\n",
    "import numpy as np\n",
    "from matplotlib import pyplot as plt\n",
    "\n",
    "x = np.linspace(0, 10, 100)\n",
    "y = np.sin(x) + a * np.sin(x*4)\n",
    "plt.plot(x, y)\n",
    "plt.show()"
   ]
  },
  {
   "cell_type": "markdown",
   "metadata": {},
   "source": [
    "Aby utworzyć podobny formularz, zaznaczcie kursorem na poniższą komórkę, a następnie kliknijcie w **+form** w jej prawym górnym rogu. Następnie kliknijcie w **+field**, wybierzcie nazwę zmiennej (*Variable name*), zmieńcie typ (*Variable type*) na *number* oraz rodzaj pola (*Form field type*) na slider. Możecie tam wybrać zakres (*Min* - *Max*) oraz rozmiar kroku (*Step*). Kliknijcie w ikonkę edycji koło tytułu (*Default title text*) i zaznaczcie automatyczne uruchamianie komórki (*Auto-execute cell when fields change*)\""
   ]
  },
  {
   "cell_type": "code",
   "execution_count": null,
   "metadata": {},
   "outputs": [],
   "source": [
    "print(a)"
   ]
  },
  {
   "cell_type": "markdown",
   "metadata": {},
   "source": [
    "## Pobieranie plików z Colaboratory"
   ]
  },
  {
   "cell_type": "markdown",
   "metadata": {},
   "source": [
    "W Colaboratory niestety nie mamy łatwego dostępu do stworzonych plików. Możemy je pobrać w następujący sposób:"
   ]
  },
  {
   "cell_type": "code",
   "execution_count": null,
   "metadata": {
    "collapsed": true
   },
   "outputs": [],
   "source": [
    "from google.colab import files\n",
    "\n",
    "with open('example.txt', 'w') as f:\n",
    "  f.write('some content')\n",
    "\n",
    "files.download('example.txt')"
   ]
  },
  {
   "cell_type": "markdown",
   "metadata": {
    "nbgrader": {
     "grade": false,
     "locked": false,
     "schema_version": 1,
     "solution": false
    }
   },
   "source": [
    "## Testy"
   ]
  },
  {
   "cell_type": "markdown",
   "metadata": {
    "nbgrader": {
     "grade": false,
     "locked": false,
     "schema_version": 1,
     "solution": false
    }
   },
   "source": [
    "W zadaniach programistycznych otrzymacie częściowo wypełnione notebooki, które będą zawierały wiele komórek, które będziecie musieli uzupełnić. Niektóre komórki będą zawierały testy sprawdzające poprawność rozwiązania. Aby dostać punkty za dane testy, cała komórka musi wykonać się bez błędu. (Proszę nie zmieniać ich zawartości ani ich nie usuwać – to nie pomoże, a tylko utrudni nam pracę.)\n",
    "Będą też pytania z oczekiwaną odpowiedzią tekstową w danej komórce.\n",
    "\n",
    "Poniżej przykład schematu zadania:"
   ]
  },
  {
   "cell_type": "markdown",
   "metadata": {
    "nbgrader": {
     "grade": false,
     "locked": false,
     "schema_version": 1,
     "solution": false
    }
   },
   "source": [
    "<div class=\"alert alert-success\">\n",
    "Zaimplementuj funkcję <code>witaj</code> i upewnij się, że poniższe testy przechodzą bez problemu. Zacznij od skasowania linijki z `raise NotImplementedError`, napisz swoje rozwiązanie, a następnie uruchom ponownie tę komórkę i komórkę z testami.\n",
    "\n",
    "Pamiętaj, że za każdym razem, gdy zmieniasz treść komórki (również kod funkcji), musisz ją ponownie uruchomić, aby pozostałe komórki mogły dostrzec zmianę!\n",
    "</div>"
   ]
  },
  {
   "cell_type": "code",
   "execution_count": null,
   "metadata": {
    "collapsed": true,
    "nbgrader": {
     "grade": false,
     "grade_id": "hello",
     "locked": false,
     "schema_version": 1,
     "solution": true
    }
   },
   "outputs": [],
   "source": [
    "def witaj(imie):\n",
    "    \"\"\"Zwraca wiadomość zawierającą \"Witaj, <imie>!\",\n",
    "    gdzie <imie> zostało ponade jako argument.\n",
    "    \n",
    "    Argumenty\n",
    "    ---------\n",
    "    imie : string\n",
    "        Imię osoby do przywitania\n",
    "        \n",
    "    Zwracana wartość\n",
    "    ----------------\n",
    "    wiadomość zawierająca \"Witaj, <imie>!\"\n",
    "    \n",
    "    \"\"\"\n",
    "    raise NotImplementedError"
   ]
  },
  {
   "cell_type": "code",
   "execution_count": null,
   "metadata": {
    "nbgrader": {
     "grade": false,
     "locked": false,
     "schema_version": 1,
     "solution": false
    }
   },
   "outputs": [],
   "source": [
    "# spróbuj wykonać tę komórkę z Twoim imieniem i zobacz, co zwróci\n",
    "witaj(\"TWOJE IMIĘ TUTAJ\")"
   ]
  },
  {
   "cell_type": "code",
   "execution_count": null,
   "metadata": {
    "collapsed": true
   },
   "outputs": [],
   "source": [
    "# Podpowiedż: jeśli kod funkcji wydaje się w porządku,\n",
    "# jednak z jakiegoś powodu testy nie przechodzą,\n",
    "# sprawdź czy zwracasz wartość za pomocą `return`,\n",
    "# a nie wypisujesz jej przez `print`.\n",
    "\n",
    "# Poniższy kod powinien wypisać tylko jedną linijkę.\n",
    "# Wypisanie \"Twoja funkcja zwróciła:  None\"\n",
    "# sugeruje błąd opisany powyżej\n",
    "\n",
    "message = witaj(\"Janie Kowalski\")\n",
    "print(\"Twoja funkcja zwróciła: \", str(message))"
   ]
  },
  {
   "cell_type": "markdown",
   "metadata": {
    "nbgrader": {
     "grade": false,
     "locked": false,
     "schema_version": 1,
     "solution": false
    }
   },
   "source": [
    "<div class=\"alert alert-info\">\n",
    "Podczas rozwiązywania zadania mogą przydać Ci się Twoje własne testy. Możesz je napisać np. poniżej korzystając z takiej samej składni. Nie będą one uwzględniane przy ocenianiu.</div>"
   ]
  },
  {
   "cell_type": "code",
   "execution_count": null,
   "metadata": {
    "collapsed": true
   },
   "outputs": [],
   "source": [
    "# dodaj własne testy tutaj\n"
   ]
  },
  {
   "cell_type": "code",
   "execution_count": null,
   "metadata": {
    "nbgrader": {
     "grade": true,
     "grade_id": "test_hello",
     "locked": false,
     "points": 1,
     "schema_version": 1,
     "solution": false
    }
   },
   "outputs": [],
   "source": [
    "\"\"\"Kod z testami. Ta komórka powinna zakończyć się wypisaniem \"Success\" aby ją zaliczyć.\"\"\"\n",
    "assert witaj(\"Świecie\") == \"Witaj, Świecie!\"\n",
    "assert witaj(\"świecie\") == \"Witaj, świecie!\"\n",
    "assert witaj(\"Janie Kowalski\") == \"Witaj, Janie Kowalski!\"\n",
    "assert witaj(\"123\") == \"Witaj, 123!\"\n",
    "\n",
    "print(\"Success!\")"
   ]
  },
  {
   "cell_type": "markdown",
   "metadata": {},
   "source": [
    "Powyższy opis powstał na podstawie przykładu użycia systemu do oceniania notebooków: [jhamrick/nbgrader-demo](https://github.com/jhamrick/nbgrader-demo/blob/05a5c90582fc3a575e70f94a0cc214c275311264/instructor/source/ps1/1%20-%20Introduction%20to%20the%20IPython%20notebook.ipynb) i [wstępu do Colaboratory](https://colab.research.google.com/notebooks/basic_features_overview.ipynb)."
   ]
  }
 ],
 "metadata": {
  "celltoolbar": "Create Assignment",
  "kernelspec": {
   "display_name": "Python 3",
   "language": "python",
   "name": "python3"
  },
  "language_info": {
   "codemirror_mode": {
    "name": "ipython",
    "version": 3
   },
   "file_extension": ".py",
   "mimetype": "text/x-python",
   "name": "python",
   "nbconvert_exporter": "python",
   "pygments_lexer": "ipython3",
   "version": "3.6.3"
  }
 },
 "nbformat": 4,
 "nbformat_minor": 1
}
