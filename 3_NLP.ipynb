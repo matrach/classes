{
  "nbformat": 4,
  "nbformat_minor": 0,
  "metadata": {
    "colab": {
      "name": "3_NLP.ipynb",
      "version": "0.3.2",
      "views": {},
      "default_view": {},
      "provenance": [],
      "collapsed_sections": []
    },
    "kernelspec": {
      "name": "python3",
      "display_name": "Python 3"
    }
  },
  "cells": [
    {
      "metadata": {
        "id": "uVPkhiyB8l0w",
        "colab_type": "code",
        "colab": {
          "autoexec": {
            "startup": false,
            "wait_interval": 0
          }
        }
      },
      "cell_type": "code",
      "source": [
        "# Przydatne biblioteki to analizy danych\n",
        "import pandas as pd\n",
        "import numpy as np"
      ],
      "execution_count": 0,
      "outputs": []
    },
    {
      "metadata": {
        "id": "xMNN36wSKqus",
        "colab_type": "text"
      },
      "cell_type": "markdown",
      "source": [
        "# Ciekawe materiały w internecie"
      ]
    },
    {
      "metadata": {
        "id": "SS0d0eCbK5pR",
        "colab_type": "text"
      },
      "cell_type": "markdown",
      "source": [
        "IPIPAN ma fajne demo, ale ostatnio często nie działa. Dostępne jest pod linkiem:\n",
        "  http://multiservice.nlp.ipipan.waw.pl/en/\n",
        "  \n",
        "[Analogie w embeddingach](http://dsmodels.nlp.ipipan.waw.pl/analogy.html): słowo 1: \"mężczyzna\", słowo 2: \"król\", słowo 3: \"kobieta\" -> słowo 4: \"królowa\".\n",
        "\n",
        "Współczesne dema można znaleźć tutaj: http://ws.clarin-pl.eu/\n",
        "  \n",
        "Słowosieć zawiera relacje pomiędzy słowami. Przykładowa strona dla słowa [jechać](http://plwordnet.pwr.wroc.pl/wordnet/77005502-2081-11e8-a0a3-37c4290c57bb).\n",
        "\n",
        "Cała lista narzędzi: http://clip.ipipan.waw.pl/LRT \n",
        "\n",
        "\n",
        "Przykład tagera z ujednoznacznianiem: [http://ws.clarin-pl.eu/morphoDiTa.shtml](http://ws.clarin-pl.eu/morphoDiTa.shtml). Polecam sprawdzić na przykładzie:\n",
        "\n",
        "`Ja mam dwa psy. Mamy w sumie dwie mamy. Mamy mają też dwie mamy.`\n",
        "\n",
        "(warto wybrać zakładkę \"Tekst\" w wynikach i najeżdżać na słowa) i porównać wyniki z innym tagerem. Proponuję wkleić to też do dostępnego tam [parsera](http://ws.clarin-pl.eu/parser.shtml).\n"
      ]
    },
    {
      "metadata": {
        "id": "SX9OdQ2c85ud",
        "colab_type": "text"
      },
      "cell_type": "markdown",
      "source": [
        "# Embeddingi (Zanurzenia)"
      ]
    },
    {
      "metadata": {
        "id": "jtDWHqHF9A6U",
        "colab_type": "text"
      },
      "cell_type": "markdown",
      "source": [
        "Najpierw ściągnijmy zanurzenia dla j. polskiego. Uwaga: plik ma 900MB i będzie się ściągał wolno poza siecią wydziałową.\n",
        "\n",
        "Poniższy plik na bazie modeli z [IPIPAN](http://dsmodels.nlp.ipipan.waw.pl/w2v.html). Pod tym linkiem można też zrobić to samo klikając.\n"
      ]
    },
    {
      "metadata": {
        "id": "QF8tMV_kDa_x",
        "colab_type": "code",
        "colab": {
          "autoexec": {
            "startup": false,
            "wait_interval": 0
          }
        }
      },
      "cell_type": "code",
      "source": [
        "data_url = 'https://www.mimuw.edu.pl/~mm319369/priv/d73890416bec03ff3e2b3756af8c941c/pl-embeddings-skip-noh.txt'"
      ],
      "execution_count": 0,
      "outputs": []
    },
    {
      "metadata": {
        "id": "6_Hyo3Q7Dn30",
        "colab_type": "text"
      },
      "cell_type": "markdown",
      "source": [
        "Jeśli chcecie zobaczyć, jak z tym zadziałać samodzielnie można go pobrać na różne sposoby.\n",
        "\n",
        "Poniższą komórkę wykonajcie przy pracy z Colaboratory. System poprosi o dostęp do Waszego dysku na tym koncie – trzeba wejść w podany link, przeklikać się, skopiować podany kod i wcisnąć Enter.\n",
        "\n",
        "Jeszcze niżej pozostałe opcje."
      ]
    },
    {
      "metadata": {
        "id": "Ct-bjHroB9n9",
        "colab_type": "code",
        "colab": {
          "autoexec": {
            "startup": false,
            "wait_interval": 0
          }
        }
      },
      "cell_type": "code",
      "source": [
        "# Install the PyDrive wrapper & import libraries.\n",
        "# This only needs to be done once per notebook.\n",
        "!pip install -U -q PyDrive\n",
        "from pydrive.auth import GoogleAuth\n",
        "from pydrive.drive import GoogleDrive\n",
        "from google.colab import auth\n",
        "from oauth2client.client import GoogleCredentials\n",
        "\n",
        "# Authenticate and create the PyDrive client.\n",
        "# This only needs to be done once per notebook.\n",
        "auth.authenticate_user()\n",
        "gauth = GoogleAuth()\n",
        "gauth.credentials = GoogleCredentials.get_application_default()\n",
        "drive = GoogleDrive(gauth)\n",
        "\n",
        "# Download a file based on its file ID.\n",
        "#https://drive.google.com/file/d/1bbEW3xoO2lYGAdONfXwldmi6tAACLSWX/view?usp=sharing\n",
        "# A file ID looks like: laggVyWshwcyP6kEI-y_W3P8D26sz\n",
        "file_id = '1bbEW3xoO2lYGAdONfXwldmi6tAACLSWX'\n",
        "downloaded = drive.CreateFile({'id': file_id})\n",
        "downloaded.GetContentFile('pl-embeddings-skip-noh.txt')\n",
        "print('Downloaded content'.format())"
      ],
      "execution_count": 0,
      "outputs": []
    },
    {
      "metadata": {
        "id": "QDn8MfosERIE",
        "colab_type": "text"
      },
      "cell_type": "markdown",
      "source": [
        "Poniższa wersja zadziała pod Linuksem i będzie wyświetlać pasek postępu."
      ]
    },
    {
      "metadata": {
        "id": "s0h_iHcFBkgE",
        "colab_type": "code",
        "colab": {
          "autoexec": {
            "startup": false,
            "wait_interval": 0
          }
        }
      },
      "cell_type": "code",
      "source": [
        "!wget $data_url"
      ],
      "execution_count": 0,
      "outputs": []
    },
    {
      "metadata": {
        "id": "h8b452bVDcvU",
        "colab_type": "text"
      },
      "cell_type": "markdown",
      "source": [
        "**Poniższą komórkę uruchomcie, gdy inne nie działają.**"
      ]
    },
    {
      "metadata": {
        "id": "WF6YkKea8tsO",
        "colab_type": "code",
        "colab": {
          "autoexec": {
            "startup": false,
            "wait_interval": 0
          }
        }
      },
      "cell_type": "code",
      "source": [
        "try:\n",
        "    from urllib import urlretrieve\n",
        "except:\n",
        "    from urllib.request import urlretrieve\n",
        "from tempfile import mktemp\n",
        "\n",
        "name, hdrs = urlretrieve(data_url, 'pl-embeddings-skip-noh.txt')\n",
        "print(\"Done\")"
      ],
      "execution_count": 0,
      "outputs": []
    },
    {
      "metadata": {
        "id": "-Rm6bIp4EcDP",
        "colab_type": "text"
      },
      "cell_type": "markdown",
      "source": [
        "## Praca z embeddingami\n",
        "Załadujmy je najpierw do pamięci. Poniższe wyświetli wartości zanurzenia dla poszczególnym słów."
      ]
    },
    {
      "metadata": {
        "id": "LfyHsEstCpdx",
        "colab_type": "code",
        "colab": {
          "autoexec": {
            "startup": false,
            "wait_interval": 0
          }
        }
      },
      "cell_type": "code",
      "source": [
        "embeddings = pd.read_csv('pl-embeddings-skip-noh.txt', sep=' ', header=None)\n",
        "embeddings.set_index(0, inplace=True)\n",
        "embeddings.index.name = 'word'\n",
        "del embeddings[101]\n",
        "embeddings.head()"
      ],
      "execution_count": 0,
      "outputs": []
    },
    {
      "metadata": {
        "id": "Xobbk1U3FFBn",
        "colab_type": "text"
      },
      "cell_type": "markdown",
      "source": [
        "Poniższy kod normalizuje długość wektorów do 1, co jest przydatne przy liczeniu cosinusa kąta."
      ]
    },
    {
      "metadata": {
        "id": "82di3ZolDHH6",
        "colab_type": "code",
        "colab": {
          "autoexec": {
            "startup": false,
            "wait_interval": 0
          }
        }
      },
      "cell_type": "code",
      "source": [
        "embeddings = embeddings.div(np.sqrt((embeddings**2).sum(axis=1)), axis=0)"
      ],
      "execution_count": 0,
      "outputs": []
    },
    {
      "metadata": {
        "id": "_qP-vo3pHcOO",
        "colab_type": "text"
      },
      "cell_type": "markdown",
      "source": [
        "Poniższa funkcja zwróci nam stopien podobienstwa między słowami.\n",
        "\n",
        "`emedding.loc[x]` zwraca nam wektor reprezentujący słowo `x`\n",
        "\n"
      ]
    },
    {
      "metadata": {
        "id": "Tt39EzM_HquF",
        "colab_type": "code",
        "colab": {
          "autoexec": {
            "startup": false,
            "wait_interval": 0
          }
        }
      },
      "cell_type": "code",
      "source": [
        "def similarity(v1, v2):\n",
        "  return np.matmul(v1, v2.T)"
      ],
      "execution_count": 0,
      "outputs": []
    },
    {
      "metadata": {
        "id": "w9_g8xAEHyjK",
        "colab_type": "code",
        "colab": {
          "autoexec": {
            "startup": false,
            "wait_interval": 0
          }
        }
      },
      "cell_type": "code",
      "source": [
        "#@title Słowa { run: \"auto\" }\n",
        "word1 = \"pies\" #@param {type:\"string\"}\n",
        "word2 = \"kot\" #@param {type:\"string\"}\n",
        "\n",
        "embedding1 = embeddings.loc[word1]\n",
        "embedding2 = embeddings.loc[word2]\n",
        "similarity(embedding1, embedding2)"
      ],
      "execution_count": 0,
      "outputs": []
    },
    {
      "metadata": {
        "id": "InMHJD6rFpML",
        "colab_type": "text"
      },
      "cell_type": "markdown",
      "source": [
        "Poniższa funkcja pozwala nam znaleźć najbliższe `n` słów do danego wektora (po cosinusie kąta)."
      ]
    },
    {
      "metadata": {
        "id": "RJjMaz5bFm6E",
        "colab_type": "code",
        "colab": {
          "autoexec": {
            "startup": false,
            "wait_interval": 0
          }
        }
      },
      "cell_type": "code",
      "source": [
        "def get_closest(vect, n=5):\n",
        "    return [embeddings.index[x] for x in np.argsort(np.matmul(vect, embeddings.T))[-n:][::-1]]"
      ],
      "execution_count": 0,
      "outputs": []
    },
    {
      "metadata": {
        "id": "tNrkFXhPF5wS",
        "colab_type": "text"
      },
      "cell_type": "markdown",
      "source": [
        "Sprawdźmy, co jest najbliższe słowu 'pies'."
      ]
    },
    {
      "metadata": {
        "id": "d1niQMeBF9Cw",
        "colab_type": "code",
        "colab": {
          "autoexec": {
            "startup": false,
            "wait_interval": 0
          }
        }
      },
      "cell_type": "code",
      "source": [
        "#@title Słowo { run: \"auto\" }\n",
        "word = \"pies\" #@param {type:\"string\"}\n",
        "n = 5 #@param {type:\"integer\"}\n",
        "embedding = embeddings.loc[word]\n",
        "get_closest(embedding, n=n)"
      ],
      "execution_count": 0,
      "outputs": []
    },
    {
      "metadata": {
        "id": "t8QUktttIU3d",
        "colab_type": "text"
      },
      "cell_type": "markdown",
      "source": [
        "Analogie:\n",
        "król - mężczyzna + kobieta = królowa"
      ]
    },
    {
      "metadata": {
        "id": "4EGXm29dIUAh",
        "colab_type": "code",
        "colab": {
          "autoexec": {
            "startup": false,
            "wait_interval": 0
          }
        }
      },
      "cell_type": "code",
      "source": [
        "def get_analogy(base, minus, plus, n=5):\n",
        "  return get_closest(embeddings.loc[base] - embeddings.loc[minus] + embeddings.loc[plus], n=n)"
      ],
      "execution_count": 0,
      "outputs": []
    },
    {
      "metadata": {
        "id": "AYuW6UlwJOWg",
        "colab_type": "code",
        "colab": {
          "autoexec": {
            "startup": false,
            "wait_interval": 0
          }
        }
      },
      "cell_type": "code",
      "source": [
        "#@title Analogie { run: \"auto\" }\n",
        "base = \"kr\\xF3l\" #@param {type:\"string\"}\n",
        "minus = \"m\\u0119\\u017Cczyzna\" #@param {type:\"string\"}\n",
        "plus = \"kobieta\" #@param {type:\"string\"}\n",
        "n = 5 #@param {type:\"integer\"}\n",
        "\n",
        "get_analogy(base, minus, plus, n)"
      ],
      "execution_count": 0,
      "outputs": []
    },
    {
      "metadata": {
        "id": "-Uw7Gm4LJtyC",
        "colab_type": "text"
      },
      "cell_type": "markdown",
      "source": [
        "Co ciekawe, w j. polskim embeddingi kodują formę gramatyczną i działają na nich analogie:"
      ]
    },
    {
      "metadata": {
        "id": "U_BenJAjKMYB",
        "colab_type": "code",
        "colab": {
          "autoexec": {
            "startup": false,
            "wait_interval": 0
          }
        }
      },
      "cell_type": "code",
      "source": [
        "get_analogy('samochodem', 'samochód', 'kot')"
      ],
      "execution_count": 0,
      "outputs": []
    },
    {
      "metadata": {
        "id": "ShfVM1-LKYNe",
        "colab_type": "code",
        "colab": {
          "autoexec": {
            "startup": false,
            "wait_interval": 0
          }
        }
      },
      "cell_type": "code",
      "source": [
        "get_analogy('samochody', 'samochód', 'kot')"
      ],
      "execution_count": 0,
      "outputs": []
    },
    {
      "metadata": {
        "id": "2ui9nkpBlBmV",
        "colab_type": "text"
      },
      "cell_type": "markdown",
      "source": [
        "Zadanie dla rozrywki: napisz kod, który znajduje słowo niepasujące do pozostałych. Np. w `[\"kolacja\", \"obiad\", \"samochód\", \"śniadanie\"]` niepasującym słowem jest `\"samochód\"`."
      ]
    },
    {
      "metadata": {
        "id": "efyqoawPlAe2",
        "colab_type": "code",
        "colab": {
          "autoexec": {
            "startup": false,
            "wait_interval": 0
          }
        }
      },
      "cell_type": "code",
      "source": [
        ""
      ],
      "execution_count": 0,
      "outputs": []
    },
    {
      "metadata": {
        "id": "yukqa74sMTpf",
        "colab_type": "text"
      },
      "cell_type": "markdown",
      "source": [
        "# NLTK"
      ]
    },
    {
      "metadata": {
        "id": "NHVwcI3Jr5q0",
        "colab_type": "text"
      },
      "cell_type": "markdown",
      "source": [
        "NLTK jest biblioteką w Pythonie do przetwarzania języka naturalnego. Ma bardzo wiele modułów, ale niestety wsparcie dla polskiego jest ograniczone.\n",
        "\n",
        "Zaimportujmy oraz pobierzmy potrzebne moduły."
      ]
    },
    {
      "metadata": {
        "id": "dyPhoHAiMUjG",
        "colab_type": "code",
        "colab": {
          "autoexec": {
            "startup": false,
            "wait_interval": 0
          }
        }
      },
      "cell_type": "code",
      "source": [
        "!pip install nltk"
      ],
      "execution_count": 0,
      "outputs": []
    },
    {
      "metadata": {
        "id": "8Atb7qiKpDh3",
        "colab_type": "code",
        "colab": {
          "autoexec": {
            "startup": false,
            "wait_interval": 0
          }
        }
      },
      "cell_type": "code",
      "source": [
        "import nltk"
      ],
      "execution_count": 0,
      "outputs": []
    },
    {
      "metadata": {
        "id": "GYh7HY6cNkpv",
        "colab_type": "code",
        "colab": {
          "autoexec": {
            "startup": false,
            "wait_interval": 0
          }
        }
      },
      "cell_type": "code",
      "source": [
        "nltk.download('popular')\n"
      ],
      "execution_count": 0,
      "outputs": []
    },
    {
      "metadata": {
        "id": "GDOxK0_2NPIv",
        "colab_type": "code",
        "colab": {
          "autoexec": {
            "startup": false,
            "wait_interval": 0
          }
        }
      },
      "cell_type": "code",
      "source": [
        "#@title Sentence { run: \"auto\" }\n",
        "sentence = \"Employees of Cambridge Analytica, including the suspended CEO Alexander Nix, weren't filmed.\" #@param {type:\"string\"}\n"
      ],
      "execution_count": 0,
      "outputs": []
    },
    {
      "metadata": {
        "id": "cHN0UqR6JZvY",
        "colab_type": "text"
      },
      "cell_type": "markdown",
      "source": [
        "Tokenizacja: podział na słowa. (Zwróćcie uwagę na oddzielenie \"n't\".)"
      ]
    },
    {
      "metadata": {
        "id": "p0C1DKrhNfof",
        "colab_type": "code",
        "colab": {
          "autoexec": {
            "startup": false,
            "wait_interval": 0
          }
        }
      },
      "cell_type": "code",
      "source": [
        "tokens = nltk.word_tokenize(sentence)\n",
        "tokens"
      ],
      "execution_count": 0,
      "outputs": []
    },
    {
      "metadata": {
        "id": "1hPDiJrOJrH0",
        "colab_type": "text"
      },
      "cell_type": "markdown",
      "source": [
        "Tagowanie częścią mowy:"
      ]
    },
    {
      "metadata": {
        "id": "noAlerufNiay",
        "colab_type": "code",
        "colab": {
          "autoexec": {
            "startup": false,
            "wait_interval": 0
          }
        }
      },
      "cell_type": "code",
      "source": [
        "tags = nltk.pos_tag(tokens)\n",
        "tags[:5]"
      ],
      "execution_count": 0,
      "outputs": []
    },
    {
      "metadata": {
        "id": "c34B-j80J0H0",
        "colab_type": "text"
      },
      "cell_type": "markdown",
      "source": [
        "Wykrywanie nazw własnych:"
      ]
    },
    {
      "metadata": {
        "id": "ZN8vPD_LOFse",
        "colab_type": "code",
        "colab": {
          "autoexec": {
            "startup": false,
            "wait_interval": 0
          }
        }
      },
      "cell_type": "code",
      "source": [
        "entities = nltk.chunk.ne_chunk(tags)\n",
        "print(entities)"
      ],
      "execution_count": 0,
      "outputs": []
    },
    {
      "metadata": {
        "id": "biFQON5gqIm7",
        "colab_type": "text"
      },
      "cell_type": "markdown",
      "source": [
        "Poruszanie się po słowosieci:"
      ]
    },
    {
      "metadata": {
        "id": "qhf-poUtp36j",
        "colab_type": "code",
        "colab": {
          "autoexec": {
            "startup": false,
            "wait_interval": 0
          }
        }
      },
      "cell_type": "code",
      "source": [
        "from nltk.corpus import wordnet"
      ],
      "execution_count": 0,
      "outputs": []
    },
    {
      "metadata": {
        "id": "zzqSK2CeKT-0",
        "colab_type": "text"
      },
      "cell_type": "markdown",
      "source": [
        "Definicja:"
      ]
    },
    {
      "metadata": {
        "id": "X3UV1WqUp4an",
        "colab_type": "code",
        "colab": {
          "autoexec": {
            "startup": false,
            "wait_interval": 0
          }
        }
      },
      "cell_type": "code",
      "source": [
        "syn = wordnet.synsets(\"NLP\")\n",
        " \n",
        "print(syn[0].definition())"
      ],
      "execution_count": 0,
      "outputs": []
    },
    {
      "metadata": {
        "id": "NM5cjca1KWWZ",
        "colab_type": "text"
      },
      "cell_type": "markdown",
      "source": [
        "Synonimy:"
      ]
    },
    {
      "metadata": {
        "id": "3BA3zI1Xp6bg",
        "colab_type": "code",
        "colab": {
          "autoexec": {
            "startup": false,
            "wait_interval": 0
          }
        }
      },
      "cell_type": "code",
      "source": [
        "synonyms = []\n",
        " \n",
        "for syn in wordnet.synsets('Computer'):\n",
        "    for lemma in syn.lemmas():\n",
        "        synonyms.append(lemma.name())\n",
        " \n",
        "synonyms"
      ],
      "execution_count": 0,
      "outputs": []
    },
    {
      "metadata": {
        "id": "GmmEzIYAqAFv",
        "colab_type": "code",
        "colab": {
          "autoexec": {
            "startup": false,
            "wait_interval": 0
          }
        }
      },
      "cell_type": "code",
      "source": [
        ""
      ],
      "execution_count": 0,
      "outputs": []
    }
  ]
}